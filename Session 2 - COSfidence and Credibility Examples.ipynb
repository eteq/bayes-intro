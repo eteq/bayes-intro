{
 "cells": [
  {
   "cell_type": "markdown",
   "metadata": {
    "editable": true,
    "slideshow": {
     "slide_type": ""
    },
    "tags": []
   },
   "source": [
    "# COSfidence Intervals\n",
    "\n",
    "*Erik Tollerud*\n",
    "\n",
    "[Back to Session 2](Session%202.ipynb)"
   ]
  },
  {
   "cell_type": "markdown",
   "metadata": {},
   "source": [
    "Here we aim to use a photon-counting exercise on real data to explore how confidence/credible intervals interact."
   ]
  },
  {
   "cell_type": "markdown",
   "metadata": {},
   "source": [
    "## Basic imports\n",
    "\n",
    "Some standard Python imports we know we'll need"
   ]
  },
  {
   "cell_type": "code",
   "execution_count": null,
   "metadata": {},
   "outputs": [],
   "source": [
    "import numpy as np\n",
    "from scipy import stats"
   ]
  },
  {
   "cell_type": "code",
   "execution_count": null,
   "metadata": {},
   "outputs": [],
   "source": [
    "%matplotlib inline\n",
    "from matplotlib import pyplot as plt"
   ]
  },
  {
   "cell_type": "code",
   "execution_count": null,
   "metadata": {},
   "outputs": [],
   "source": [
    "from astropy.coordinates import SkyCoord\n",
    "from astropy import units as u\n",
    "\n",
    "from astropy.io import fits"
   ]
  },
  {
   "cell_type": "markdown",
   "metadata": {},
   "source": [
    "# Get a COS dataset "
   ]
  },
  {
   "cell_type": "code",
   "execution_count": null,
   "metadata": {},
   "outputs": [],
   "source": [
    "from astroquery.mast import Observations"
   ]
  },
  {
   "cell_type": "code",
   "execution_count": null,
   "metadata": {},
   "outputs": [],
   "source": [
    "obs_table = Observations.query_region(SkyCoord(12.7114372253*u.deg, 35.611946106*u.deg), radius=5*u.arcsec)\n",
    "cos_targets = obs_table[obs_table['instrument_name'] == 'COS/FUV']\n",
    "cos_targets"
   ]
  },
  {
   "cell_type": "markdown",
   "metadata": {},
   "source": [
    "Lets pick out the one with the highest exposure time and download the corresponding X1DSUM file:"
   ]
  },
  {
   "cell_type": "code",
   "execution_count": null,
   "metadata": {},
   "outputs": [],
   "source": [
    "texp = cos_targets['t_exptime']\n",
    "products = Observations.get_product_list(cos_targets[np.max(texp)==texp])\n",
    "dls = Observations.download_products(products[products['productSubGroupDescription']=='X1DSUM'])\n",
    "dls"
   ]
  },
  {
   "cell_type": "markdown",
   "metadata": {},
   "source": [
    "Now we load this file and take a look at the spectrum.  https://www.stsci.edu/itt/review/dhb_2012/COS/ch2_cos_data5.html#494666 contains a useful summary of what the fields are in this file, showing usefully that there is a \"gross counts\" array:"
   ]
  },
  {
   "cell_type": "code",
   "execution_count": null,
   "metadata": {
    "editable": true,
    "slideshow": {
     "slide_type": ""
    },
    "tags": []
   },
   "outputs": [],
   "source": [
    "f = fits.open(dls['Local Path'][0])\n",
    "spec_data = f[1].data\n",
    "print(spec_data.dtype.names)\n",
    "for d in spec_data:\n",
    "    plt.plot(d['WAVELENGTH'], d['GCOUNTS'])"
   ]
  },
  {
   "cell_type": "markdown",
   "metadata": {},
   "source": [
    "## Compare CI approaches "
   ]
  },
  {
   "cell_type": "markdown",
   "metadata": {},
   "source": [
    "First use the `'GCOUNTS'` field and the Poisson assumption to compute a frequentist-style confidence interval along the spectrum:"
   ]
  },
  {
   "cell_type": "code",
   "execution_count": null,
   "metadata": {},
   "outputs": [],
   "source": []
  },
  {
   "cell_type": "markdown",
   "metadata": {},
   "source": [
    "Now do a Bayesian Credible interval for the count rate in each pixel given by `'GCOUNTS'` ."
   ]
  },
  {
   "cell_type": "code",
   "execution_count": null,
   "metadata": {},
   "outputs": [],
   "source": []
  },
  {
   "cell_type": "markdown",
   "metadata": {},
   "source": [
    "## Derived/infered fits"
   ]
  },
  {
   "cell_type": "markdown",
   "metadata": {
    "editable": true,
    "slideshow": {
     "slide_type": ""
    },
    "tags": []
   },
   "source": [
    "Now concoct some model fit for this spectrum.  You can try to fine a QSO/Seyfert or just your favorite functional form fit on a samller region of the spectrum, as long as it has at least a few free parameter.  Work out the confidence interface/region for these model parameters following the frequntist and bayesian philosophies.  Compare and contrast..."
   ]
  }
 ],
 "metadata": {
  "kernelspec": {
   "display_name": "Python 3 (ipykernel)",
   "language": "python",
   "name": "python3"
  },
  "language_info": {
   "codemirror_mode": {
    "name": "ipython",
    "version": 3
   },
   "file_extension": ".py",
   "mimetype": "text/x-python",
   "name": "python",
   "nbconvert_exporter": "python",
   "pygments_lexer": "ipython3",
   "version": "3.12.8"
  }
 },
 "nbformat": 4,
 "nbformat_minor": 4
}
